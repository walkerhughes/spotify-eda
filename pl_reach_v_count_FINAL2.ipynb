{
 "cells": [
  {
   "cell_type": "code",
   "execution_count": 3,
   "id": "1a4e5d1f-b904-47ec-9573-7717664ee674",
   "metadata": {},
   "outputs": [
    {
     "name": "stdout",
     "output_type": "stream",
     "text": [
      "\n",
      "Scatter plot of Playlist Reach vs. Playlist Count, weighted by streams (potential audience size vs number of playlists the song is in).\n",
      "goal is to convert free tier users to paid ones by offering premium playlist recommendations\n",
      "\n"
     ]
    }
   ],
   "source": [
    "print(\"\"\"\n",
    "Scatter plot of Playlist Reach vs. Playlist Count, weighted by streams (potential audience size vs number of playlists the song is in).\n",
    "goal is to convert free tier users to paid ones by offering premium playlist recommendations\n",
    "\"\"\")\n"
   ]
  },
  {
   "cell_type": "code",
   "execution_count": 3,
   "id": "ce000ae6-4948-4566-bfd5-16cc7a2f486d",
   "metadata": {},
   "outputs": [],
   "source": [
    "import pandas as pd\n",
    "import numpy as np\n",
    "import matplotlib.pyplot as plt\n",
    "import math\n",
    "import plot_settings\n",
    "from plot_settings import colors "
   ]
  },
  {
   "cell_type": "code",
   "execution_count": 5,
   "id": "844f7dc3-50f9-494c-8c2a-d90b973b9fee",
   "metadata": {},
   "outputs": [
    {
     "data": {
      "text/html": [
       "<div>\n",
       "<style scoped>\n",
       "    .dataframe tbody tr th:only-of-type {\n",
       "        vertical-align: middle;\n",
       "    }\n",
       "\n",
       "    .dataframe tbody tr th {\n",
       "        vertical-align: top;\n",
       "    }\n",
       "\n",
       "    .dataframe thead th {\n",
       "        text-align: right;\n",
       "    }\n",
       "</style>\n",
       "<table border=\"1\" class=\"dataframe\">\n",
       "  <thead>\n",
       "    <tr style=\"text-align: right;\">\n",
       "      <th></th>\n",
       "      <th>Track</th>\n",
       "      <th>Album Name</th>\n",
       "      <th>Artist</th>\n",
       "      <th>Release Date</th>\n",
       "      <th>ISRC</th>\n",
       "      <th>All Time Rank</th>\n",
       "      <th>Track Score</th>\n",
       "      <th>Spotify Streams</th>\n",
       "      <th>Spotify Playlist Count</th>\n",
       "      <th>Spotify Playlist Reach</th>\n",
       "      <th>...</th>\n",
       "      <th>SiriusXM Spins</th>\n",
       "      <th>Deezer Playlist Count</th>\n",
       "      <th>Deezer Playlist Reach</th>\n",
       "      <th>Amazon Playlist Count</th>\n",
       "      <th>Pandora Streams</th>\n",
       "      <th>Pandora Track Stations</th>\n",
       "      <th>Soundcloud Streams</th>\n",
       "      <th>Shazam Counts</th>\n",
       "      <th>TIDAL Popularity</th>\n",
       "      <th>Explicit Track</th>\n",
       "    </tr>\n",
       "  </thead>\n",
       "  <tbody>\n",
       "    <tr>\n",
       "      <th>0</th>\n",
       "      <td>MILLION DOLLAR BABY</td>\n",
       "      <td>Million Dollar Baby - Single</td>\n",
       "      <td>Tommy Richman</td>\n",
       "      <td>4/26/2024</td>\n",
       "      <td>QM24S2402528</td>\n",
       "      <td>1</td>\n",
       "      <td>725.4</td>\n",
       "      <td>390,470,936</td>\n",
       "      <td>30,716</td>\n",
       "      <td>196,631,588</td>\n",
       "      <td>...</td>\n",
       "      <td>684</td>\n",
       "      <td>62.0</td>\n",
       "      <td>17,598,718</td>\n",
       "      <td>114.0</td>\n",
       "      <td>18,004,655</td>\n",
       "      <td>22,931</td>\n",
       "      <td>4,818,457</td>\n",
       "      <td>2,669,262</td>\n",
       "      <td>NaN</td>\n",
       "      <td>0</td>\n",
       "    </tr>\n",
       "    <tr>\n",
       "      <th>1</th>\n",
       "      <td>Not Like Us</td>\n",
       "      <td>Not Like Us</td>\n",
       "      <td>Kendrick Lamar</td>\n",
       "      <td>5/4/2024</td>\n",
       "      <td>USUG12400910</td>\n",
       "      <td>2</td>\n",
       "      <td>545.9</td>\n",
       "      <td>323,703,884</td>\n",
       "      <td>28,113</td>\n",
       "      <td>174,597,137</td>\n",
       "      <td>...</td>\n",
       "      <td>3</td>\n",
       "      <td>67.0</td>\n",
       "      <td>10,422,430</td>\n",
       "      <td>111.0</td>\n",
       "      <td>7,780,028</td>\n",
       "      <td>28,444</td>\n",
       "      <td>6,623,075</td>\n",
       "      <td>1,118,279</td>\n",
       "      <td>NaN</td>\n",
       "      <td>1</td>\n",
       "    </tr>\n",
       "    <tr>\n",
       "      <th>2</th>\n",
       "      <td>i like the way you kiss me</td>\n",
       "      <td>I like the way you kiss me</td>\n",
       "      <td>Artemas</td>\n",
       "      <td>3/19/2024</td>\n",
       "      <td>QZJ842400387</td>\n",
       "      <td>3</td>\n",
       "      <td>538.4</td>\n",
       "      <td>601,309,283</td>\n",
       "      <td>54,331</td>\n",
       "      <td>211,607,669</td>\n",
       "      <td>...</td>\n",
       "      <td>536</td>\n",
       "      <td>136.0</td>\n",
       "      <td>36,321,847</td>\n",
       "      <td>172.0</td>\n",
       "      <td>5,022,621</td>\n",
       "      <td>5,639</td>\n",
       "      <td>7,208,651</td>\n",
       "      <td>5,285,340</td>\n",
       "      <td>NaN</td>\n",
       "      <td>0</td>\n",
       "    </tr>\n",
       "    <tr>\n",
       "      <th>3</th>\n",
       "      <td>Flowers</td>\n",
       "      <td>Flowers - Single</td>\n",
       "      <td>Miley Cyrus</td>\n",
       "      <td>1/12/2023</td>\n",
       "      <td>USSM12209777</td>\n",
       "      <td>4</td>\n",
       "      <td>444.9</td>\n",
       "      <td>2,031,280,633</td>\n",
       "      <td>269,802</td>\n",
       "      <td>136,569,078</td>\n",
       "      <td>...</td>\n",
       "      <td>2,182</td>\n",
       "      <td>264.0</td>\n",
       "      <td>24,684,248</td>\n",
       "      <td>210.0</td>\n",
       "      <td>190,260,277</td>\n",
       "      <td>203,384</td>\n",
       "      <td>NaN</td>\n",
       "      <td>11,822,942</td>\n",
       "      <td>NaN</td>\n",
       "      <td>0</td>\n",
       "    </tr>\n",
       "    <tr>\n",
       "      <th>4</th>\n",
       "      <td>Houdini</td>\n",
       "      <td>Houdini</td>\n",
       "      <td>Eminem</td>\n",
       "      <td>5/31/2024</td>\n",
       "      <td>USUG12403398</td>\n",
       "      <td>5</td>\n",
       "      <td>423.3</td>\n",
       "      <td>107,034,922</td>\n",
       "      <td>7,223</td>\n",
       "      <td>151,469,874</td>\n",
       "      <td>...</td>\n",
       "      <td>1</td>\n",
       "      <td>82.0</td>\n",
       "      <td>17,660,624</td>\n",
       "      <td>105.0</td>\n",
       "      <td>4,493,884</td>\n",
       "      <td>7,006</td>\n",
       "      <td>207,179</td>\n",
       "      <td>457,017</td>\n",
       "      <td>NaN</td>\n",
       "      <td>1</td>\n",
       "    </tr>\n",
       "  </tbody>\n",
       "</table>\n",
       "<p>5 rows × 29 columns</p>\n",
       "</div>"
      ],
      "text/plain": [
       "                        Track                    Album Name          Artist  \\\n",
       "0         MILLION DOLLAR BABY  Million Dollar Baby - Single   Tommy Richman   \n",
       "1                 Not Like Us                   Not Like Us  Kendrick Lamar   \n",
       "2  i like the way you kiss me    I like the way you kiss me         Artemas   \n",
       "3                     Flowers              Flowers - Single     Miley Cyrus   \n",
       "4                     Houdini                       Houdini          Eminem   \n",
       "\n",
       "  Release Date          ISRC All Time Rank  Track Score Spotify Streams  \\\n",
       "0    4/26/2024  QM24S2402528             1        725.4     390,470,936   \n",
       "1     5/4/2024  USUG12400910             2        545.9     323,703,884   \n",
       "2    3/19/2024  QZJ842400387             3        538.4     601,309,283   \n",
       "3    1/12/2023  USSM12209777             4        444.9   2,031,280,633   \n",
       "4    5/31/2024  USUG12403398             5        423.3     107,034,922   \n",
       "\n",
       "  Spotify Playlist Count Spotify Playlist Reach  ...  SiriusXM Spins  \\\n",
       "0                 30,716            196,631,588  ...             684   \n",
       "1                 28,113            174,597,137  ...               3   \n",
       "2                 54,331            211,607,669  ...             536   \n",
       "3                269,802            136,569,078  ...           2,182   \n",
       "4                  7,223            151,469,874  ...               1   \n",
       "\n",
       "  Deezer Playlist Count Deezer Playlist Reach Amazon Playlist Count  \\\n",
       "0                  62.0            17,598,718                 114.0   \n",
       "1                  67.0            10,422,430                 111.0   \n",
       "2                 136.0            36,321,847                 172.0   \n",
       "3                 264.0            24,684,248                 210.0   \n",
       "4                  82.0            17,660,624                 105.0   \n",
       "\n",
       "  Pandora Streams Pandora Track Stations Soundcloud Streams  Shazam Counts  \\\n",
       "0      18,004,655                 22,931          4,818,457      2,669,262   \n",
       "1       7,780,028                 28,444          6,623,075      1,118,279   \n",
       "2       5,022,621                  5,639          7,208,651      5,285,340   \n",
       "3     190,260,277                203,384                NaN     11,822,942   \n",
       "4       4,493,884                  7,006            207,179        457,017   \n",
       "\n",
       "  TIDAL Popularity Explicit Track  \n",
       "0              NaN              0  \n",
       "1              NaN              1  \n",
       "2              NaN              0  \n",
       "3              NaN              0  \n",
       "4              NaN              1  \n",
       "\n",
       "[5 rows x 29 columns]"
      ]
     },
     "execution_count": 5,
     "metadata": {},
     "output_type": "execute_result"
    }
   ],
   "source": [
    "dfs = pd.read_csv(\"Most Streamed Spotify Songs 2024.csv\", encoding='latin1')\n",
    "dfs.head()"
   ]
  },
  {
   "cell_type": "code",
   "execution_count": 16,
   "id": "6eef9db7-8dbe-4154-8bee-2eda6a925f8f",
   "metadata": {},
   "outputs": [
    {
     "name": "stdout",
     "output_type": "stream",
     "text": [
      "<class 'pandas.core.frame.DataFrame'>\n",
      "RangeIndex: 4600 entries, 0 to 4599\n",
      "Data columns (total 29 columns):\n",
      " #   Column                      Non-Null Count  Dtype  \n",
      "---  ------                      --------------  -----  \n",
      " 0   Track                       4600 non-null   object \n",
      " 1   Album Name                  4600 non-null   object \n",
      " 2   Artist                      4595 non-null   object \n",
      " 3   Release Date                4600 non-null   object \n",
      " 4   ISRC                        4600 non-null   object \n",
      " 5   All Time Rank               4600 non-null   object \n",
      " 6   Track Score                 4600 non-null   float64\n",
      " 7   Spotify Streams             4487 non-null   object \n",
      " 8   Spotify Playlist Count      4530 non-null   object \n",
      " 9   Spotify Playlist Reach      4528 non-null   object \n",
      " 10  Spotify Popularity          3796 non-null   float64\n",
      " 11  YouTube Views               4292 non-null   object \n",
      " 12  YouTube Likes               4285 non-null   object \n",
      " 13  TikTok Posts                3427 non-null   object \n",
      " 14  TikTok Likes                3620 non-null   object \n",
      " 15  TikTok Views                3619 non-null   object \n",
      " 16  YouTube Playlist Reach      3591 non-null   object \n",
      " 17  Apple Music Playlist Count  4039 non-null   float64\n",
      " 18  AirPlay Spins               4102 non-null   object \n",
      " 19  SiriusXM Spins              2477 non-null   object \n",
      " 20  Deezer Playlist Count       3679 non-null   float64\n",
      " 21  Deezer Playlist Reach       3672 non-null   object \n",
      " 22  Amazon Playlist Count       3545 non-null   float64\n",
      " 23  Pandora Streams             3494 non-null   object \n",
      " 24  Pandora Track Stations      3332 non-null   object \n",
      " 25  Soundcloud Streams          1267 non-null   object \n",
      " 26  Shazam Counts               4023 non-null   object \n",
      " 27  TIDAL Popularity            0 non-null      float64\n",
      " 28  Explicit Track              4600 non-null   int64  \n",
      "dtypes: float64(6), int64(1), object(22)\n",
      "memory usage: 1.0+ MB\n"
     ]
    }
   ],
   "source": [
    "dfs.info()"
   ]
  },
  {
   "cell_type": "code",
   "execution_count": 6,
   "id": "739b1665-23b4-41f3-9af8-3616cd465c86",
   "metadata": {},
   "outputs": [],
   "source": [
    "# Much of the data are 'object' when they should be 'int'\n",
    "dfs['Spotify Streams'] = dfs['Spotify Streams'].str.replace(',', '').astype(float)\n",
    "dfs['Spotify Playlist Count'] = dfs['Spotify Playlist Count'].str.replace(',', '').astype(float)\n",
    "dfs['Spotify Playlist Reach'] = dfs['Spotify Playlist Reach'].str.replace(',', '').astype(float)"
   ]
  },
  {
   "cell_type": "code",
   "execution_count": 7,
   "id": "1c65a841-4c57-4ccd-bc3b-90481cf9d3ad",
   "metadata": {},
   "outputs": [],
   "source": [
    "# Drop all data points that are 'NaN'.\n",
    "dfs1 = dfs.dropna(subset=['Spotify Streams','Spotify Playlist Count','Spotify Playlist Reach'])"
   ]
  },
  {
   "cell_type": "code",
   "execution_count": 8,
   "id": "c00a6521-c91a-4f29-93c6-0a526c510bac",
   "metadata": {},
   "outputs": [],
   "source": [
    "#I want to maintain the name dfs \n",
    "dfs = dfs1"
   ]
  },
  {
   "cell_type": "code",
   "execution_count": 9,
   "id": "0144e8eb-2a9f-4af2-a4b9-2b4519dedc86",
   "metadata": {},
   "outputs": [],
   "source": [
    "x = dfs['Spotify Playlist Count']\n",
    "y = dfs['Spotify Playlist Reach']\n",
    "\n",
    "r = np.corrcoef(x,y)[1][0]\n",
    "a = r*(y.std()/x.std())\n",
    "b = y.mean() - (a*x.mean())\n",
    "\n",
    "x_lin = np.linspace(min(x), max(x), 10)\n",
    "y_lin = a*x_lin + b"
   ]
  },
  {
   "cell_type": "code",
   "execution_count": 10,
   "id": "118aacc2-efbe-47e5-9cf3-d4d349fc61a6",
   "metadata": {},
   "outputs": [
    {
     "data": {
      "text/plain": [
       "array([[1.        , 0.60768182],\n",
       "       [0.60768182, 1.        ]])"
      ]
     },
     "execution_count": 10,
     "metadata": {},
     "output_type": "execute_result"
    }
   ],
   "source": [
    "np.corrcoef(x,y)"
   ]
  },
  {
   "cell_type": "code",
   "execution_count": 11,
   "id": "42aa71f0-d0e9-4836-b2e2-8860a43e5a9f",
   "metadata": {},
   "outputs": [],
   "source": [
    "# 0.5 < r < 0.7 indicates a moderate correlation between playlist count and reach.\n"
   ]
  },
  {
   "cell_type": "code",
   "execution_count": 12,
   "id": "f4ee6c2e-f166-41de-af79-769fd073d979",
   "metadata": {},
   "outputs": [],
   "source": [
    "# Playlist count vs reach by weighing in streams\n",
    "\n",
    "quantiles = dfs['Spotify Streams'].quantile([0.25, 0.75])\n",
    "q_low = quantiles[0.25]\n",
    "q_high = quantiles[0.75]\n",
    "\n",
    "group1 = dfs[dfs['Spotify Streams'] <= q_low]\n",
    "group2 = dfs[(dfs['Spotify Streams'] > q_low) & (dfs['Spotify Streams'] <= q_high)]\n",
    "group3 = dfs[dfs['Spotify Streams'] > q_high]"
   ]
  },
  {
   "cell_type": "code",
   "execution_count": 13,
   "id": "1714e5c0-bf4d-4ea1-bc22-93b2beaf7d98",
   "metadata": {},
   "outputs": [],
   "source": [
    "x1 = group1['Spotify Playlist Count']\n",
    "y1 = group1['Spotify Playlist Reach']\n",
    "x2 = group2['Spotify Playlist Count']\n",
    "y2 = group2['Spotify Playlist Reach']\n",
    "x3 = group3['Spotify Playlist Count']\n",
    "y3 = group3['Spotify Playlist Reach']\n",
    "\n",
    "r1 = np.corrcoef(x1,y1)[1][0]\n",
    "a1 = r1*(y1.std()/x1.std())\n",
    "b1 = y1.mean() - (a1*x1.mean())\n",
    "\n",
    "r2 = np.corrcoef(x2,y2)[1][0]\n",
    "a2 = r2*(y2.std()/x2.std())\n",
    "b2 = y2.mean() - (a2*x2.mean())\n",
    "\n",
    "r3 = np.corrcoef(x3,y3)[1][0]\n",
    "a3 = r3*(y3.std()/x3.std())\n",
    "b3 = y3.mean() - (a3*x3.mean())\n",
    "\n",
    "x1_lin = np.linspace(min(x), max(x), 10)\n",
    "y1_lin = a1*x1_lin + b1\n",
    "\n",
    "x2_lin = np.linspace(min(x), max(x), 10)\n",
    "y2_lin = a2*x2_lin + b2\n",
    "\n",
    "x3_lin = np.linspace(min(x), max(x), 10)\n",
    "y3_lin = a3*x3_lin + b3"
   ]
  },
  {
   "cell_type": "code",
   "execution_count": 20,
   "id": "9fcc15d6-fb46-4988-bfeb-74bb686a8e30",
   "metadata": {},
   "outputs": [
    {
     "data": {
      "image/png": "[encoded data removed]",
      "text/plain": [
       "<Figure size 900x400 with 3 Axes>"
      ]
     },
     "metadata": {},
     "output_type": "display_data"
    }
   ],
   "source": [
    "fig, axes = plt.subplots(nrows=1,ncols=3,figsize=(9,4))\n",
    "\n",
    "# Set equal size axes for all 3 plots\n",
    "for i in range(len(axes)): \n",
    "    axes[i].set_xlim(-30000, 640000)\n",
    "    axes[i].set_ylim(-.2e8, 3.e8)\n",
    "\n",
    "# Scatter plots and regression lines\n",
    "axes[0].scatter(x1,y1,c=colors['blue'], s=5, alpha=0.5)\n",
    "axes[1].scatter(x2,y2,c=colors['blue'], s=5, alpha=0.5)\n",
    "axes[2].scatter(x3,y3,c=colors['blue'], s=5, alpha=0.5)\n",
    "axes[0].plot(x1_lin, y1_lin, c=colors['red'], lw=1, alpha=0.8)\n",
    "axes[1].plot(x2_lin, y2_lin, c=colors['red'], lw=1, alpha=0.8)\n",
    "axes[2].plot(x3_lin, y3_lin, c=colors['red'], lw=1, alpha=0.8)\n",
    "\n",
    "# Annotate the linear regressions\n",
    "axes[0].annotate(f'r = {r1.round(3)}',(4e5,.3e8),c=colors['red'],size=10) \n",
    "axes[1].annotate(f'r = {r2.round(3)}',(4e5,0.65e8),c=colors['red'],size=10) \n",
    "axes[2].annotate(f'r = {r3.round(3)}',(4e5,1.75e8),c=colors['red'],size=10) \n",
    "axes[0].annotate(\"Little to No Correlation\",(.165e5,2.8e8), c=colors['orange'], size=10, weight='bold')\n",
    "axes[1].annotate(\"Little to No Correlation\",(.165e5,2.8e8), c=colors['orange'], size=10, weight='bold')\n",
    "axes[2].annotate(\"Moderate Correlation\",(.35e5,2.8e8), c=colors['orange'], size=10, weight='bold')\n",
    "# Removed codes that annotate the linear regression equation (not much purpose, graph too noisy)\n",
    "# \\ny = {int(a1.round())}*x + {b1:.2e}' \n",
    "\n",
    "# Show the titles\n",
    "axes[1].text(-7.3e5,3.55e8,\"Spotify's Playlist Count vs Reach by Streams\",weight='bold',size=18)\n",
    "axes[0].set_title(\"Low Stream (0%,25%)\", pad=17, size=10)\n",
    "axes[1].set_title(\"Medium Stream (25%,75%)\", pad=17, size=10)\n",
    "axes[2].set_title(\"High Stream (75%,100%)\", pad=17, size=10)\n",
    "axes[1].set_xlabel(\"Playlist Count per Each Song\", labelpad=10, size=14)\n",
    "axes[0].set_ylabel(\"# Followers of Song's Playlists\", labelpad=10, size=14)\n",
    "\n",
    "# X-tick labels\n",
    "axes[0].set_xticks([0, 200000, 400000, 600000])\n",
    "axes[0].set_xticklabels(['0','200k', '400k', '600k'])\n",
    "axes[1].set_xticks([0, 200000, 400000, 600000])\n",
    "axes[1].set_xticklabels(['0','200k', '400k', '600k'])\n",
    "axes[2].set_xticks([0, 200000, 400000, 600000])\n",
    "axes[2].set_xticklabels(['0','200k', '400k', '600k'])\n",
    "\n",
    "axes[0].spines['top'].set_visible(False)\n",
    "axes[0].spines['right'].set_visible(False)\n",
    "axes[1].spines['top'].set_visible(False)\n",
    "axes[1].spines['right'].set_visible(False)\n",
    "axes[2].spines['top'].set_visible(False)\n",
    "axes[2].spines['right'].set_visible(False)\n",
    "\n",
    "plt.show()"
   ]
  },
  {
   "cell_type": "code",
   "execution_count": 156,
   "id": "f39883bc-bc01-4ccb-baf4-a59465842c46",
   "metadata": {},
   "outputs": [
    {
     "data": {
      "text/plain": [
       "count    4.465000e+03\n",
       "mean     4.436544e+08\n",
       "std      5.304297e+08\n",
       "min      1.071000e+03\n",
       "25%      7.060162e+07\n",
       "50%      2.396246e+08\n",
       "75%      6.238759e+08\n",
       "max      4.281469e+09\n",
       "Name: Spotify Streams, dtype: float64"
      ]
     },
     "execution_count": 156,
     "metadata": {},
     "output_type": "execute_result"
    }
   ],
   "source": [
    "dfs['Spotify Streams'].describe()"
   ]
  },
  {
   "cell_type": "code",
   "execution_count": null,
   "id": "d3eaa528-aaab-4a27-b509-4bbb29e9d1ac",
   "metadata": {},
   "outputs": [],
   "source": []
  },
  {
   "cell_type": "code",
   "execution_count": null,
   "id": "628b5412-07de-43cf-a075-d6df3549262c",
   "metadata": {},
   "outputs": [],
   "source": []
  },
  {
   "cell_type": "code",
   "execution_count": null,
   "id": "b96c7373-fd63-4da6-a098-2e362d6e2b00",
   "metadata": {},
   "outputs": [],
   "source": []
  },
  {
   "cell_type": "code",
   "execution_count": null,
   "id": "f59ff34b-810b-492f-8667-9911e1ae9971",
   "metadata": {},
   "outputs": [],
   "source": []
  },
  {
   "cell_type": "code",
   "execution_count": null,
   "id": "200216f9-5a7a-495b-89fe-f1ae3a468756",
   "metadata": {},
   "outputs": [],
   "source": []
  }
 ],
 "metadata": {
  "kernelspec": {
   "display_name": "Python 3 (ipykernel)",
   "language": "python",
   "name": "python3"
  },
  "language_info": {
   "codemirror_mode": {
    "name": "ipython",
    "version": 3
   },
   "file_extension": ".py",
   "mimetype": "text/x-python",
   "name": "python",
   "nbconvert_exporter": "python",
   "pygments_lexer": "ipython3",
   "version": "3.12.4"
  }
 },
 "nbformat": 4,
 "nbformat_minor": 5
}
